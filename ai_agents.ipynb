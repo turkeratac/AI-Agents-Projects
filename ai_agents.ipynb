{
 "cells": [
  {
   "cell_type": "code",
   "execution_count": 53,
   "metadata": {},
   "outputs": [],
   "source": [
    "GROQ_API_KEY = \"\""
   ]
  },
  {
   "cell_type": "code",
   "execution_count": 2,
   "metadata": {},
   "outputs": [
    {
     "name": "stderr",
     "output_type": "stream",
     "text": [
      "c:\\Users\\USER\\Documents\\Egitim\\.venv\\Lib\\site-packages\\pydantic\\_internal\\_config.py:341: UserWarning: Valid config keys have changed in V2:\n",
      "* 'allow_population_by_field_name' has been renamed to 'populate_by_name'\n",
      "* 'smart_union' has been removed\n",
      "  warnings.warn(message, UserWarning)\n"
     ]
    }
   ],
   "source": [
    "from crewai import Agent, Task, Crew, Process\n",
    "from groq import Groq\n",
    "from langchain_groq import ChatGroq\n",
    "import numpy as np\n",
    "from crewai_tools import FileReadTool"
   ]
  },
  {
   "cell_type": "code",
   "execution_count": 44,
   "metadata": {},
   "outputs": [],
   "source": [
    "llama3 = ChatGroq(temperature=0, model_name=\"llama3-70b-8192\", api_key=GROQ_API_KEY)"
   ]
  },
  {
   "cell_type": "markdown",
   "metadata": {},
   "source": [
    "## Deney1: Bulgulara göre Hastalık Tanısı koyan Ajan"
   ]
  },
  {
   "cell_type": "code",
   "execution_count": 5,
   "metadata": {},
   "outputs": [
    {
     "name": "stdout",
     "output_type": "stream",
     "text": [
      "Requirement already satisfied: PyPDF2 in c:\\users\\user\\documents\\egitim\\.venv\\lib\\site-packages (3.0.1)\n",
      "Note: you may need to restart the kernel to use updated packages.\n"
     ]
    }
   ],
   "source": [
    "%pip install PyPDF2"
   ]
  },
  {
   "cell_type": "code",
   "execution_count": 10,
   "metadata": {},
   "outputs": [
    {
     "name": "stdout",
     "output_type": "stream",
     "text": [
      "Common Skin Diseases and Their Symptoms\n",
      "Acne\n",
      "Description: Acne is a skin condition that occurs when hair follicles become clogged with oil and\n",
      "dead skin cells.\n",
      "Symptoms:\n",
      "- Blackheads\n",
      "- Whiteheads\n",
      "- Pimples\n",
      "- Redness around the skin eruptions\n",
      "Eczema (Atopic Dermatitis)\n",
      "Description: Eczema is a condition that makes your skin red and itchy. It is common in children but\n",
      "can occur at any age.\n",
      "Symptoms:\n",
      "- Dry skin\n",
      "- Itching, which may be severe, especially at night\n",
      "- Red to brownish-gray patches, particularly on the hands, feet, ankles, wrists, neck, upper chest, eyelids, and inside the bend of the elbows and knees\n",
      "- Small, raised bumps, which may leak fluid and crust over when scratched\n",
      "Psoriasis\n",
      "Description: Psoriasis is a skin disease that causes red, itchy scaly patches, most commonly on the\n",
      "knees, elbows, trunk, and scalp.\n",
      "Symptoms:\n",
      "- Red patches of skin covered with thick, silvery scales\n",
      "- Dry, cracked skin that may bleed or itch\n",
      "- Itching, burning, or soreness- Thickened, pitted, or ridged nails\n",
      "Rosacea\n",
      "Description: Rosacea is a chronic skin condition that causes redness and visible blood vessels in\n",
      "your face. It may also produce small, red, pus-filled bumps.\n",
      "Symptoms:\n",
      "- Facial redness\n",
      "- Swollen red bumps\n",
      "- Eye problems such as dryness, irritation, and swollen, red eyelids\n",
      "- Enlarged nose\n",
      "Hives (Urticaria)\n",
      "Description: Hives are a skin reaction that causes itchy welts (hives) that vary in size and can\n",
      "appear anywhere on the body.\n",
      "Symptoms:\n",
      "- Raised, red welts\n",
      "- Itching\n",
      "- Swelling\n",
      "- Can change in shape, move around, disappear, and reappear over short periods\n",
      "Dermatitis\n",
      "Description: Dermatitis is a general term that describes inflammation of the skin.\n",
      "Symptoms:\n",
      "- Red rash\n",
      "- Dry, cracked skin\n",
      "- Itching\n",
      "- Blisters\n",
      "- SwellingSkin Cancer\n",
      "Description: Skin cancer is the abnormal growth of skin cells, often developing on skin exposed to\n",
      "the sun.\n",
      "Symptoms:\n",
      "- A new growth or a sore that does not heal\n",
      "- A smooth, shiny, pale, or waxy lump\n",
      "- A firm red lump\n",
      "- A lump that bleeds or develops a crust\n",
      "Vitiligo\n",
      "Description: Vitiligo is a disease that causes the loss of skin color in patches.\n",
      "Symptoms:\n",
      "- Patchy loss of skin color\n",
      "- Premature whitening or graying of the hair on your scalp, eyelashes, eyebrows, or beard\n",
      "- Loss of color in the tissues that line the inside of your mouth and nose (mucous membranes)\n",
      "Impetigo\n",
      "Description: Impetigo is a highly contagious skin infection that causes red sores on the face,\n",
      "especially around a child's nose and mouth, and on hands and feet.\n",
      "Symptoms:\n",
      "- Red sores that quickly rupture, ooze for a few days, and then form a yellow-brown crust\n",
      "- Itching and soreness\n",
      "Shingles (Herpes Zoster)\n",
      "Description: Shingles is a viral infection that causes a painful rash.\n",
      "Symptoms:\n",
      "- Pain, burning, numbness, or tingling\n",
      "- Sensitivity to touch- A red rash that begins a few days after the pain\n",
      "- Fluid-filled blisters that break open and crust over\n",
      "Note:\n",
      "This is a simplified overview of common skin diseases and their symptoms. If you have any concerns about your skin,\n",
      "please consult a healthcare professional for an accurate diagnosis and treatment.\n"
     ]
    }
   ],
   "source": [
    "from PyPDF2 import PdfReader\n",
    "\n",
    "try:\n",
    "    reader = PdfReader('Skin_Diseases_and_Symptoms.pdf')\n",
    "    text = \"\"\n",
    "    for page in reader.pages:\n",
    "        text += page.extract_text()\n",
    "    print(text)\n",
    "except Exception as e:\n",
    "    print(f\"Error reading PDF: {e}\")"
   ]
  },
  {
   "cell_type": "code",
   "execution_count": 11,
   "metadata": {},
   "outputs": [
    {
     "name": "stdout",
     "output_type": "stream",
     "text": [
      "Red rash Dry, cracked skin Itching Blisters Swelling\n"
     ]
    }
   ],
   "source": [
    "soru = input(\"What are your symptoms? \")\n",
    "print(soru)"
   ]
  },
  {
   "cell_type": "code",
   "execution_count": 24,
   "metadata": {},
   "outputs": [],
   "source": [
    "# Define the agent\n",
    "agent1 = Agent(\n",
    "    role='Dermatologist',\n",
    "    goal='Define patient\\'s skin disease with given symptoms.',\n",
    "    backstory=\"You are Prof. at Dermatology and you can easily say the skin disease with given symptoms\",\n",
    "    llm=llama3, \n",
    "    verbose=True,  \n",
    ")\n",
    "\n",
    "task1 = Task(\n",
    "    description=f\"Answer user's question {soru} with using {text} this informations.\",\n",
    "    expected_output=\"Create a txt file and save the output in it. It must only contains the disease name!\",\n",
    "    agent=agent1,\n",
    "    output_file=\"result.txt\"\n",
    ")"
   ]
  },
  {
   "cell_type": "code",
   "execution_count": 27,
   "metadata": {},
   "outputs": [
    {
     "name": "stderr",
     "output_type": "stream",
     "text": [
      "2024-08-16 17:49:08,366 - 14472 - __init__.py-__init__:531 - WARNING: Overriding of current TracerProvider is not allowed\n"
     ]
    },
    {
     "name": "stdout",
     "output_type": "stream",
     "text": [
      "\u001b[1m\u001b[95m [2024-08-16 17:49:08][DEBUG]: == Working Agent: Dermatologist\u001b[00m\n",
      "\u001b[1m\u001b[95m [2024-08-16 17:49:08][INFO]: == Starting Task: Answer user's question Red rash Dry, cracked skin Itching Blisters Swelling with using Common Skin Diseases and Their Symptoms\n",
      "Acne\n",
      "Description: Acne is a skin condition that occurs when hair follicles become clogged with oil and\n",
      "dead skin cells.\n",
      "Symptoms:\n",
      "- Blackheads\n",
      "- Whiteheads\n",
      "- Pimples\n",
      "- Redness around the skin eruptions\n",
      "Eczema (Atopic Dermatitis)\n",
      "Description: Eczema is a condition that makes your skin red and itchy. It is common in children but\n",
      "can occur at any age.\n",
      "Symptoms:\n",
      "- Dry skin\n",
      "- Itching, which may be severe, especially at night\n",
      "- Red to brownish-gray patches, particularly on the hands, feet, ankles, wrists, neck, upper chest, eyelids, and inside the bend of the elbows and knees\n",
      "- Small, raised bumps, which may leak fluid and crust over when scratched\n",
      "Psoriasis\n",
      "Description: Psoriasis is a skin disease that causes red, itchy scaly patches, most commonly on the\n",
      "knees, elbows, trunk, and scalp.\n",
      "Symptoms:\n",
      "- Red patches of skin covered with thick, silvery scales\n",
      "- Dry, cracked skin that may bleed or itch\n",
      "- Itching, burning, or soreness- Thickened, pitted, or ridged nails\n",
      "Rosacea\n",
      "Description: Rosacea is a chronic skin condition that causes redness and visible blood vessels in\n",
      "your face. It may also produce small, red, pus-filled bumps.\n",
      "Symptoms:\n",
      "- Facial redness\n",
      "- Swollen red bumps\n",
      "- Eye problems such as dryness, irritation, and swollen, red eyelids\n",
      "- Enlarged nose\n",
      "Hives (Urticaria)\n",
      "Description: Hives are a skin reaction that causes itchy welts (hives) that vary in size and can\n",
      "appear anywhere on the body.\n",
      "Symptoms:\n",
      "- Raised, red welts\n",
      "- Itching\n",
      "- Swelling\n",
      "- Can change in shape, move around, disappear, and reappear over short periods\n",
      "Dermatitis\n",
      "Description: Dermatitis is a general term that describes inflammation of the skin.\n",
      "Symptoms:\n",
      "- Red rash\n",
      "- Dry, cracked skin\n",
      "- Itching\n",
      "- Blisters\n",
      "- SwellingSkin Cancer\n",
      "Description: Skin cancer is the abnormal growth of skin cells, often developing on skin exposed to\n",
      "the sun.\n",
      "Symptoms:\n",
      "- A new growth or a sore that does not heal\n",
      "- A smooth, shiny, pale, or waxy lump\n",
      "- A firm red lump\n",
      "- A lump that bleeds or develops a crust\n",
      "Vitiligo\n",
      "Description: Vitiligo is a disease that causes the loss of skin color in patches.\n",
      "Symptoms:\n",
      "- Patchy loss of skin color\n",
      "- Premature whitening or graying of the hair on your scalp, eyelashes, eyebrows, or beard\n",
      "- Loss of color in the tissues that line the inside of your mouth and nose (mucous membranes)\n",
      "Impetigo\n",
      "Description: Impetigo is a highly contagious skin infection that causes red sores on the face,\n",
      "especially around a child's nose and mouth, and on hands and feet.\n",
      "Symptoms:\n",
      "- Red sores that quickly rupture, ooze for a few days, and then form a yellow-brown crust\n",
      "- Itching and soreness\n",
      "Shingles (Herpes Zoster)\n",
      "Description: Shingles is a viral infection that causes a painful rash.\n",
      "Symptoms:\n",
      "- Pain, burning, numbness, or tingling\n",
      "- Sensitivity to touch- A red rash that begins a few days after the pain\n",
      "- Fluid-filled blisters that break open and crust over\n",
      "Note:\n",
      "This is a simplified overview of common skin diseases and their symptoms. If you have any concerns about your skin,\n",
      "please consult a healthcare professional for an accurate diagnosis and treatment. this informations.\u001b[00m\n",
      "\n",
      "\n",
      "\u001b[1m> Entering new CrewAgentExecutor chain...\u001b[0m\n",
      "\u001b[32;1m\u001b[1;3mThought: I now have a great understanding of the symptoms provided, and I'm confident that I can accurately identify the skin disease.\n",
      "\n",
      "Final Answer:\n",
      "Dermatitis\u001b[0m\n",
      "\n",
      "\u001b[1m> Finished chain.\u001b[0m\n",
      "\u001b[1m\u001b[92m [2024-08-16 17:49:08][DEBUG]: == [Dermatologist] Task output: Dermatitis\n",
      "\n",
      "\u001b[00m\n"
     ]
    }
   ],
   "source": [
    "my_crew = Crew(agents=[agent1],\n",
    "               tasks=[task1], \n",
    "               process=Process.sequential,\n",
    "               verbose=1,\n",
    "               max_rpm=29)\n",
    "crew = my_crew.kickoff()"
   ]
  },
  {
   "cell_type": "markdown",
   "metadata": {},
   "source": [
    "## Deney2 : Ev Önerisi Yapan Ajan"
   ]
  },
  {
   "cell_type": "code",
   "execution_count": 45,
   "metadata": {},
   "outputs": [
    {
     "data": {
      "text/html": [
       "<div>\n",
       "<style scoped>\n",
       "    .dataframe tbody tr th:only-of-type {\n",
       "        vertical-align: middle;\n",
       "    }\n",
       "\n",
       "    .dataframe tbody tr th {\n",
       "        vertical-align: top;\n",
       "    }\n",
       "\n",
       "    .dataframe thead th {\n",
       "        text-align: right;\n",
       "    }\n",
       "</style>\n",
       "<table border=\"1\" class=\"dataframe\">\n",
       "  <thead>\n",
       "    <tr style=\"text-align: right;\">\n",
       "      <th></th>\n",
       "      <th>price</th>\n",
       "      <th>area</th>\n",
       "      <th>bedrooms</th>\n",
       "      <th>bathrooms</th>\n",
       "      <th>stories</th>\n",
       "      <th>mainroad</th>\n",
       "      <th>guestroom</th>\n",
       "      <th>basement</th>\n",
       "      <th>hotwaterheating</th>\n",
       "      <th>airconditioning</th>\n",
       "      <th>parking</th>\n",
       "      <th>prefarea</th>\n",
       "      <th>furnishingstatus</th>\n",
       "    </tr>\n",
       "  </thead>\n",
       "  <tbody>\n",
       "    <tr>\n",
       "      <th>0</th>\n",
       "      <td>13300000</td>\n",
       "      <td>7420</td>\n",
       "      <td>4</td>\n",
       "      <td>2</td>\n",
       "      <td>3</td>\n",
       "      <td>yes</td>\n",
       "      <td>no</td>\n",
       "      <td>no</td>\n",
       "      <td>no</td>\n",
       "      <td>yes</td>\n",
       "      <td>2</td>\n",
       "      <td>yes</td>\n",
       "      <td>furnished</td>\n",
       "    </tr>\n",
       "    <tr>\n",
       "      <th>1</th>\n",
       "      <td>12250000</td>\n",
       "      <td>8960</td>\n",
       "      <td>4</td>\n",
       "      <td>4</td>\n",
       "      <td>4</td>\n",
       "      <td>yes</td>\n",
       "      <td>no</td>\n",
       "      <td>no</td>\n",
       "      <td>no</td>\n",
       "      <td>yes</td>\n",
       "      <td>3</td>\n",
       "      <td>no</td>\n",
       "      <td>furnished</td>\n",
       "    </tr>\n",
       "    <tr>\n",
       "      <th>2</th>\n",
       "      <td>12250000</td>\n",
       "      <td>9960</td>\n",
       "      <td>3</td>\n",
       "      <td>2</td>\n",
       "      <td>2</td>\n",
       "      <td>yes</td>\n",
       "      <td>no</td>\n",
       "      <td>yes</td>\n",
       "      <td>no</td>\n",
       "      <td>no</td>\n",
       "      <td>2</td>\n",
       "      <td>yes</td>\n",
       "      <td>semi-furnished</td>\n",
       "    </tr>\n",
       "    <tr>\n",
       "      <th>3</th>\n",
       "      <td>12215000</td>\n",
       "      <td>7500</td>\n",
       "      <td>4</td>\n",
       "      <td>2</td>\n",
       "      <td>2</td>\n",
       "      <td>yes</td>\n",
       "      <td>no</td>\n",
       "      <td>yes</td>\n",
       "      <td>no</td>\n",
       "      <td>yes</td>\n",
       "      <td>3</td>\n",
       "      <td>yes</td>\n",
       "      <td>furnished</td>\n",
       "    </tr>\n",
       "    <tr>\n",
       "      <th>4</th>\n",
       "      <td>11410000</td>\n",
       "      <td>7420</td>\n",
       "      <td>4</td>\n",
       "      <td>1</td>\n",
       "      <td>2</td>\n",
       "      <td>yes</td>\n",
       "      <td>yes</td>\n",
       "      <td>yes</td>\n",
       "      <td>no</td>\n",
       "      <td>yes</td>\n",
       "      <td>2</td>\n",
       "      <td>no</td>\n",
       "      <td>furnished</td>\n",
       "    </tr>\n",
       "  </tbody>\n",
       "</table>\n",
       "</div>"
      ],
      "text/plain": [
       "      price  area  bedrooms  bathrooms  stories mainroad guestroom basement  \\\n",
       "0  13300000  7420         4          2        3      yes        no       no   \n",
       "1  12250000  8960         4          4        4      yes        no       no   \n",
       "2  12250000  9960         3          2        2      yes        no      yes   \n",
       "3  12215000  7500         4          2        2      yes        no      yes   \n",
       "4  11410000  7420         4          1        2      yes       yes      yes   \n",
       "\n",
       "  hotwaterheating airconditioning  parking prefarea furnishingstatus  \n",
       "0              no             yes        2      yes        furnished  \n",
       "1              no             yes        3       no        furnished  \n",
       "2              no              no        2      yes   semi-furnished  \n",
       "3              no             yes        3      yes        furnished  \n",
       "4              no             yes        2       no        furnished  "
      ]
     },
     "execution_count": 45,
     "metadata": {},
     "output_type": "execute_result"
    }
   ],
   "source": [
    "import pandas as pd\n",
    "\n",
    "house_data = pd.read_csv(\"Housing.csv\")\n",
    "house_data.head()"
   ]
  },
  {
   "cell_type": "code",
   "execution_count": 46,
   "metadata": {},
   "outputs": [
    {
     "data": {
      "text/plain": [
       "(price                 1750000\n",
       " area                     1650\n",
       " bedrooms                    1\n",
       " bathrooms                   1\n",
       " stories                     1\n",
       " mainroad                   no\n",
       " guestroom                  no\n",
       " basement                   no\n",
       " hotwaterheating            no\n",
       " airconditioning            no\n",
       " parking                     0\n",
       " prefarea                   no\n",
       " furnishingstatus    furnished\n",
       " dtype: object,\n",
       " price                  13300000\n",
       " area                      16200\n",
       " bedrooms                      6\n",
       " bathrooms                     4\n",
       " stories                       4\n",
       " mainroad                    yes\n",
       " guestroom                   yes\n",
       " basement                    yes\n",
       " hotwaterheating             yes\n",
       " airconditioning             yes\n",
       " parking                       3\n",
       " prefarea                    yes\n",
       " furnishingstatus    unfurnished\n",
       " dtype: object)"
      ]
     },
     "execution_count": 46,
     "metadata": {},
     "output_type": "execute_result"
    }
   ],
   "source": [
    "house_data.min(), house_data.max()"
   ]
  },
  {
   "cell_type": "code",
   "execution_count": 47,
   "metadata": {},
   "outputs": [
    {
     "name": "stdout",
     "output_type": "stream",
     "text": [
      "price: 2000000, bedrooms:2+\n"
     ]
    }
   ],
   "source": [
    "soru = input(\"I can find the best house for you. What are the requirements for your home? \")\n",
    "print(soru)"
   ]
  },
  {
   "cell_type": "code",
   "execution_count": 51,
   "metadata": {},
   "outputs": [],
   "source": [
    "# Define the agent\n",
    "agent1 = Agent(\n",
    "    role='Real Estate Agent',\n",
    "    goal='Find appropriate house for your customer with given requirements.',\n",
    "    backstory=\"You are an expert Real Estate Agent and you can easily find appropriate houses for your customers with given requirements.\",\n",
    "    llm=llama3, \n",
    "    verbose=True,  \n",
    ")\n",
    "\n",
    "task1 = Task(\n",
    "    description=f\"Find appropriate house with given requirements {soru} with using {house_data} this informations. Note:Information of houses is in the {house_data}! Don't exceed customer's budget and also the other requirements are must be satisfied!\",\n",
    "    expected_output=\"Create a txt file and save the output in it. It must only contains the appropriate houses! Don't duplicate the results\",\n",
    "    agent=agent1,\n",
    "    output_file=\"list_of_houses.txt\"\n",
    ")"
   ]
  },
  {
   "cell_type": "code",
   "execution_count": 52,
   "metadata": {},
   "outputs": [
    {
     "name": "stderr",
     "output_type": "stream",
     "text": [
      "2024-08-16 18:26:08,359 - 14472 - __init__.py-__init__:531 - WARNING: Overriding of current TracerProvider is not allowed\n"
     ]
    },
    {
     "name": "stdout",
     "output_type": "stream",
     "text": [
      "\n",
      "\n",
      "\u001b[1m> Entering new CrewAgentExecutor chain...\u001b[0m\n",
      "\u001b[32;1m\u001b[1;3m\u001b[0m\u001b[32;1m\u001b[1;3mThought: I now can give a great answer\n",
      "\n",
      "Final Answer:\n",
      "\n",
      "Here is the list of appropriate houses that meet the customer's requirements:\n",
      "\n",
      "540   1820000  3000         2          1        1      yes        no      yes   \n",
      "542   1750000  3620         2          1        1      yes        no       no   \n",
      "544   1750000  3850         3          1        2      yes        no       no   \n",
      "\n",
      "These houses have a price of 2000000 or less, 2 or more bedrooms, and meet the other specified requirements. The output has been saved to a txt file.\u001b[0m\n",
      "\n",
      "\u001b[1m> Finished chain.\u001b[0m\n"
     ]
    }
   ],
   "source": [
    "my_crew = Crew(agents=[agent1],\n",
    "               tasks=[task1], \n",
    "               process=Process.sequential,\n",
    "               verbose=False,\n",
    "               max_rpm=29)\n",
    "crew = my_crew.kickoff()"
   ]
  },
  {
   "cell_type": "code",
   "execution_count": null,
   "metadata": {},
   "outputs": [],
   "source": []
  }
 ],
 "metadata": {
  "kernelspec": {
   "display_name": ".venv",
   "language": "python",
   "name": "python3"
  },
  "language_info": {
   "codemirror_mode": {
    "name": "ipython",
    "version": 3
   },
   "file_extension": ".py",
   "mimetype": "text/x-python",
   "name": "python",
   "nbconvert_exporter": "python",
   "pygments_lexer": "ipython3",
   "version": "3.12.5"
  }
 },
 "nbformat": 4,
 "nbformat_minor": 2
}
